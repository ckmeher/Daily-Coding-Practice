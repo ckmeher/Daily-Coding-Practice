{
  "nbformat": 4,
  "nbformat_minor": 0,
  "metadata": {
    "colab": {
      "name": "PythonPractice.ipynb",
      "provenance": [],
      "collapsed_sections": [],
      "authorship_tag": "ABX9TyO8YJRmdMSsJC3z1tAshqSP",
      "include_colab_link": true
    },
    "kernelspec": {
      "name": "python3",
      "display_name": "Python 3"
    },
    "language_info": {
      "name": "python"
    }
  },
  "cells": [
    {
      "cell_type": "markdown",
      "metadata": {
        "id": "view-in-github",
        "colab_type": "text"
      },
      "source": [
        "<a href=\"https://colab.research.google.com/github/ckmeher/Daily-Coding-Practice/blob/main/PythonPractice.ipynb\" target=\"_parent\"><img src=\"https://colab.research.google.com/assets/colab-badge.svg\" alt=\"Open In Colab\"/></a>"
      ]
    },
    {
      "cell_type": "markdown",
      "metadata": {
        "id": "riyPO4evR1ZZ"
      },
      "source": [
        "23 may\n"
      ]
    },
    {
      "cell_type": "code",
      "metadata": {
        "colab": {
          "base_uri": "https://localhost:8080/"
        },
        "id": "6pe-NTJGR5uD",
        "outputId": "6944ff80-ae59-4644-9d0f-255407eaeb02"
      },
      "source": [
        "p = int(input(\"Enter initial principal amount: \"))\n",
        "r = float(input(\"Enter rate of annual interest in percentage: \"))\n",
        "t = int(input(\"Enter number of years: \"))\n",
        "amount = (p * pow((1 + r/100),t))\n",
        "CI = amount - p\n",
        "print('The net amount is {}' .format(amount))\n",
        "print('The compounf interest is {}' .format(CI))"
      ],
      "execution_count": null,
      "outputs": [
        {
          "output_type": "stream",
          "text": [
            "Enter initial principal amount: 1200\n",
            "Enter rate of annual interest in percentage: 5.4\n",
            "Enter number of years: 2\n",
            "The net amount is 1333.0992\n",
            "The compounf interest is 133.0992000000001\n"
          ],
          "name": "stdout"
        }
      ]
    },
    {
      "cell_type": "code",
      "metadata": {
        "colab": {
          "base_uri": "https://localhost:8080/"
        },
        "id": "ZcZwPlJeSUT5",
        "outputId": "b6abe89e-253e-4b4a-ebfa-683ef6a04eec"
      },
      "source": [
        "radius = float(input(\"Enter the radius of the circle: \"))\n",
        "area = 3.14 * radius * radius\n",
        "print('Area of the circle is {}' .format(area))"
      ],
      "execution_count": null,
      "outputs": [
        {
          "output_type": "stream",
          "text": [
            "Enter the radius of the circle: 2\n",
            "Area of the circle is 12.56\n"
          ],
          "name": "stdout"
        }
      ]
    },
    {
      "cell_type": "code",
      "metadata": {
        "colab": {
          "base_uri": "https://localhost:8080/"
        },
        "id": "mKOwV3A-Sa_k",
        "outputId": "452673ff-71b3-4ba4-9801-2c971a09ba39"
      },
      "source": [
        "num = int(input('Enter a postive integer greater than one: '))\n",
        "a = 0\n",
        "for i in range(2,num):\n",
        "    if num % i == 0:\n",
        "      a = a+1\n",
        "if a > 0:\n",
        "  print('The number is not prime number')\n",
        "else:\n",
        "  print ('The number is a prime number')\n"
      ],
      "execution_count": null,
      "outputs": [
        {
          "output_type": "stream",
          "text": [
            "Enter a postive integer greater than one: 102\n",
            "The number is not prime number\n"
          ],
          "name": "stdout"
        }
      ]
    },
    {
      "cell_type": "code",
      "metadata": {
        "colab": {
          "base_uri": "https://localhost:8080/"
        },
        "id": "p1-4NVGNVq0g",
        "outputId": "61934f96-f8c9-46da-d6f3-299543b2a0e1"
      },
      "source": [
        "start = int(input('Enter the starting integer of the interval: '))\n",
        "end = int(input('Enter the end integer of the interval: '))\n",
        "for i in range(start,end+1):\n",
        "  a = 0\n",
        "  for j in range(2,i):\n",
        "    if i % j == 0:\n",
        "      a = a + 1\n",
        "  if a == 0:\n",
        "    print(\"{} is a prime number\" .format(i))\n",
        "#print('There are {} prime numbers between the interval' .format(b) )"
      ],
      "execution_count": null,
      "outputs": [
        {
          "output_type": "stream",
          "text": [
            "Enter the starting integer of the interval: 2\n",
            "Enter the end integer of the interval: 8\n",
            "2 is a prime number\n",
            "3 is a prime number\n",
            "5 is a prime number\n",
            "7 is a prime number\n"
          ],
          "name": "stdout"
        }
      ]
    },
    {
      "cell_type": "markdown",
      "metadata": {
        "id": "qL3jxEZqc0AF"
      },
      "source": [
        "In the above program, use break to optimize the code"
      ]
    },
    {
      "cell_type": "markdown",
      "metadata": {
        "id": "OYRhq3o-xJQ5"
      },
      "source": [
        "25 may"
      ]
    },
    {
      "cell_type": "code",
      "metadata": {
        "id": "wOukhBfqbwYN",
        "colab": {
          "base_uri": "https://localhost:8080/"
        },
        "outputId": "17d18109-1d77-4cd2-c135-9d6272ffd1a1"
      },
      "source": [
        "num = int(input('Enter the number to calculate the sum of square of first n natural number: '))\n",
        "n1 = (num * (num +1) * ((2*num) +1)/6)\n",
        "print('The sum of the sqaure of first {} natural number is {} ' .format(num,n1))"
      ],
      "execution_count": null,
      "outputs": [
        {
          "output_type": "stream",
          "text": [
            "Enter the number to calculate the sum of square of first n natural number: 100\n",
            "The sum of the sqaure of first 100 natural number is 338350.0 \n"
          ],
          "name": "stdout"
        }
      ]
    },
    {
      "cell_type": "code",
      "metadata": {
        "colab": {
          "base_uri": "https://localhost:8080/"
        },
        "id": "kYoxUHXByfU5",
        "outputId": "c3273405-bb6d-4536-bced-90b99450e980"
      },
      "source": [
        "num = int(input('Enter the number to calculate the sum of cube of first n natural number: '))\n",
        "n1 = pow((num * (num +1) / 2),2)\n",
        "print('The sum of the cube of first {} natural number is {} ' .format(num,n1))"
      ],
      "execution_count": null,
      "outputs": [
        {
          "output_type": "stream",
          "text": [
            "Enter the number to calculate the sum of cube of first n natural number: 25\n",
            "The sum of the cube of first 25 natural number is 105625.0 \n"
          ],
          "name": "stdout"
        }
      ]
    },
    {
      "cell_type": "code",
      "metadata": {
        "colab": {
          "base_uri": "https://localhost:8080/"
        },
        "id": "3_drPg2vzTUT",
        "outputId": "bad19ac2-36e4-40d1-8218-54f39eae7f67"
      },
      "source": [
        "n = int(input('Enter the number to get nth fibonacci number: '))\n",
        "a1 = 1\n",
        "a2 = 1\n",
        "a3 = 0\n",
        "for i in range(1,n-1):\n",
        "  a3 = a1 + a2\n",
        "  a1 = a2\n",
        "  a2 = a3\n",
        "print('The {} th fibonacci number is {} ' .format(n,a3))"
      ],
      "execution_count": null,
      "outputs": [
        {
          "output_type": "stream",
          "text": [
            "Enter the number to get nth fibonacci number: 12\n",
            "The 12 th fibonacci number is 144 \n"
          ],
          "name": "stdout"
        }
      ]
    },
    {
      "cell_type": "code",
      "metadata": {
        "colab": {
          "base_uri": "https://localhost:8080/"
        },
        "id": "Lyzz1Xkt35PZ",
        "outputId": "78d2dc70-2ca0-47e9-b648-ad1532b09ac7"
      },
      "source": [
        "import math\n",
        "n = int(input('Enter the number: '))\n",
        "n1 = (5*n*n)+4\n",
        "n2 = (5*n*n)-4\n"
      ],
      "execution_count": null,
      "outputs": [
        {
          "output_type": "stream",
          "text": [
            "Enter the number: 5\n"
          ],
          "name": "stdout"
        }
      ]
    },
    {
      "cell_type": "code",
      "metadata": {
        "colab": {
          "base_uri": "https://localhost:8080/"
        },
        "id": "Ca2nKmtI481g",
        "outputId": "7380da38-d205-4a0d-a4dd-4142d2dac54b"
      },
      "source": [
        "import math\n",
        "n = 100\n",
        "sqrt = math.sqrt(n)\n",
        "print(sqrt)"
      ],
      "execution_count": null,
      "outputs": [
        {
          "output_type": "stream",
          "text": [
            "10.0\n"
          ],
          "name": "stdout"
        }
      ]
    },
    {
      "cell_type": "markdown",
      "metadata": {
        "id": "ek5TMhoece3o"
      },
      "source": [
        "27 may\n"
      ]
    },
    {
      "cell_type": "code",
      "metadata": {
        "colab": {
          "base_uri": "https://localhost:8080/"
        },
        "id": "lzK8-EM8immq",
        "outputId": "a4ff5f5f-bece-4bff-83a3-98ebffc7e7ff"
      },
      "source": [
        "n = int(input('Enter the 3 digit number to check it is amstrong number or not: '))\n",
        "n1 = n // 100\n",
        "n2 = n - 100*(n1)\n",
        "n3 = n2 // 10\n",
        "n4 = n2 - 10*(n3)\n",
        "n5 = (pow(n1,3) + pow(n3,3) + pow(n4,3))\n",
        "n6 = n5 - n\n",
        "#print(n1,n2,n3,n4,n5,n6)\n",
        "if n6 == 0:\n",
        "  print('Yes')\n",
        "else:\n",
        "  print('No')"
      ],
      "execution_count": null,
      "outputs": [
        {
          "output_type": "stream",
          "text": [
            "Enter the 3 digit number to check it is amstrong number or not: 120\n",
            "No\n"
          ],
          "name": "stdout"
        }
      ]
    },
    {
      "cell_type": "code",
      "metadata": {
        "colab": {
          "base_uri": "https://localhost:8080/"
        },
        "id": "SrvfFRwjmiLo",
        "outputId": "34d901f8-ea94-4a36-fdab-d17e0ec7b044"
      },
      "source": [
        "num = int(input('Enter the 4 digit number to check it is amstrong number or not: '))\n",
        "n5 = num // 1000\n",
        "n = num - 1000*(n5)\n",
        "n1 = n // 100\n",
        "n2 = n - 100*(n1)\n",
        "n3 = n2 // 10\n",
        "n4 = n2 - 10*(n3)\n",
        "n6 = (pow(n5,4) + pow(n1,4) + pow(n3,4) + pow(n4,4))\n",
        "n7 = n6 - num\n",
        "print(num, n5, n1, n3, n4, n6, n7)\n",
        "if n7 == 0:\n",
        "  print('Yes')\n",
        "else:\n",
        "  print('No')"
      ],
      "execution_count": null,
      "outputs": [
        {
          "output_type": "stream",
          "text": [
            "Enter the 4 digit number to check it is amstrong number or not: 1634\n",
            "1634 1 6 3 4 1634 0\n",
            "Yes\n"
          ],
          "name": "stdout"
        }
      ]
    },
    {
      "cell_type": "code",
      "metadata": {
        "colab": {
          "base_uri": "https://localhost:8080/"
        },
        "id": "Mwdy_Rydmh58",
        "outputId": "c1e3791b-3d51-4266-8323-3cfbba0a0f3d"
      },
      "source": [
        "import math\n",
        "n = int(input('Enter a number to check if it is a fibonacci number or not '))\n",
        "a = ((5*pow(n,2)) + 4)\n",
        "b = ((5*pow(n,2)) - 4)\n",
        "c = int(math.sqrt(a))\n",
        "d = int(math.sqrt(b))\n",
        "e = a - (c*c)\n",
        "f = b - (d*d)\n",
        "print(e, f)\n",
        "if e == 0 or f == 0:\n",
        "  print('Yes')\n",
        "else:\n",
        "  print('No')\n"
      ],
      "execution_count": null,
      "outputs": [
        {
          "output_type": "stream",
          "text": [
            "Enter a number to check if it is a fibonacci number or not 41\n",
            "128 120\n",
            "No\n"
          ],
          "name": "stdout"
        }
      ]
    },
    {
      "cell_type": "code",
      "metadata": {
        "colab": {
          "base_uri": "https://localhost:8080/"
        },
        "id": "NMKr2h7K3-uK",
        "outputId": "fec962d5-ff7c-491e-cb78-ec297b9c57fd"
      },
      "source": [
        "c = input('Enter a character: ')\n",
        "# print the ASCII value of assigned character in c\n",
        "print(\"The ASCII value of '\" + c + \"' is\", ord(c))"
      ],
      "execution_count": null,
      "outputs": [
        {
          "output_type": "stream",
          "text": [
            "Enter a character: a\n",
            "The ASCII value of 'a' is 97\n"
          ],
          "name": "stdout"
        }
      ]
    },
    {
      "cell_type": "code",
      "metadata": {
        "colab": {
          "base_uri": "https://localhost:8080/"
        },
        "id": "mhy1WIzO64ld",
        "outputId": "46fab237-0207-4e2d-8f00-96d539d2afa9"
      },
      "source": [
        "print('Implementing pow function')\n",
        "a = int(input('Enter the base: '))\n",
        "b = int(input('Enter the exponent: '))\n",
        "\n",
        "d = a\n",
        "for i in range(1,b):\n",
        "    d = d * a\n",
        "print('{} to the power {} is {} '.format(a,b,d))"
      ],
      "execution_count": null,
      "outputs": [
        {
          "output_type": "stream",
          "text": [
            "Implementing pow function\n",
            "Enter the base: 0\n",
            "Enter the exponent: 4\n",
            "0 to the power 4 is 0 \n"
          ],
          "name": "stdout"
        }
      ]
    },
    {
      "cell_type": "code",
      "metadata": {
        "id": "Av8FCcJUDvms",
        "colab": {
          "base_uri": "https://localhost:8080/"
        },
        "outputId": "84e840ec-7ef4-4377-c24f-a17baaf00864"
      },
      "source": [
        "print('Implementing pow function')\n",
        "a = int(input('Enter the base: '))\n",
        "b = int(input('Enter the exponent: '))\n",
        "print(a, b)\n",
        "d = a\n",
        "\n",
        "if b == 0:\n",
        "  print (1)\n",
        "elif a == 0:\n",
        "  print (0)\n",
        "else:\n",
        "  for i in range(1,b):\n",
        "    d = d * a\n",
        "print(d)"
      ],
      "execution_count": null,
      "outputs": [
        {
          "output_type": "stream",
          "text": [
            "Implementing pow function\n",
            "Enter the base: 3\n",
            "Enter the exponent: 2\n",
            "3 2\n",
            "9\n"
          ],
          "name": "stdout"
        }
      ]
    },
    {
      "cell_type": "markdown",
      "metadata": {
        "id": "ah77fybCGpLW"
      },
      "source": [
        "24 june coding practice"
      ]
    },
    {
      "cell_type": "code",
      "metadata": {
        "colab": {
          "base_uri": "https://localhost:8080/"
        },
        "id": "hGxOjVebGsY3",
        "outputId": "6bb41f96-a8b8-449e-87c0-374b0f90b925"
      },
      "source": [
        "#Maximum between two integer numbers \n",
        "\n",
        "def maximum(a,b):\n",
        "  if a == b:\n",
        "    print('Both numbers are equal') \n",
        "  elif a > b:\n",
        "    return a\n",
        "  else:\n",
        "    return b\n",
        "\n",
        "#Driver class\n",
        "print(maximum(5,4))\n",
        "\n",
        "print(max(10,4)) #using direct function"
      ],
      "execution_count": null,
      "outputs": [
        {
          "output_type": "stream",
          "text": [
            "5\n",
            "10\n"
          ],
          "name": "stdout"
        }
      ]
    },
    {
      "cell_type": "code",
      "metadata": {
        "colab": {
          "base_uri": "https://localhost:8080/"
        },
        "id": "VGciCLFbKdtO",
        "outputId": "13c987ee-40b8-47ba-964a-30688ed22b56"
      },
      "source": [
        "#To find the factorial of a number\n",
        "#Recursive approach\n",
        "\n",
        "def factorial(n):\n",
        "  if (n == 1 or n == 0):\n",
        "    return 1\n",
        "  else:\n",
        "    return n * factorial(n-1)\n",
        "\n",
        "#Driver Code\n",
        "print('Factorial of a number')\n",
        "print(factorial(10)) "
      ],
      "execution_count": null,
      "outputs": [
        {
          "output_type": "stream",
          "text": [
            "Factorial of a number\n",
            "3628800\n"
          ],
          "name": "stdout"
        }
      ]
    },
    {
      "cell_type": "code",
      "metadata": {
        "colab": {
          "base_uri": "https://localhost:8080/"
        },
        "id": "sE-MdfnELjvW",
        "outputId": "730c85c1-35e7-43ea-fd79-c498f4986341"
      },
      "source": [
        "#To find the factorial of a number\n",
        "#Iterative approach\n",
        "\n",
        "def fact(n):\n",
        "  if n < 0:\n",
        "    print('Factorial of negative number is not defined')\n",
        "  elif n == 0 or n == 1:\n",
        "    return 1\n",
        "  else:\n",
        "    num = 1\n",
        "    while (n > 1):\n",
        "      num = num * n\n",
        "      num = num - 1\n",
        "    return num\n",
        "\n",
        "#Driver Code\n",
        "print('Factorial of a number')\n",
        "print(factorial(3)) "
      ],
      "execution_count": null,
      "outputs": [
        {
          "output_type": "stream",
          "text": [
            "Factorial of a number\n",
            "6\n"
          ],
          "name": "stdout"
        }
      ]
    },
    {
      "cell_type": "code",
      "metadata": {
        "colab": {
          "base_uri": "https://localhost:8080/"
        },
        "id": "4d_ejnPSOtfm",
        "outputId": "951c2221-311e-498b-f19d-351544e6fa04"
      },
      "source": [
        "#To find the factorial of a number\n",
        "#Using math module\n",
        "\n",
        "import math\n",
        "\n",
        "def factori(n):\n",
        "  return (math.factorial(n))\n",
        "\n",
        "#Driver Code\n",
        "print('Factorial of a number')\n",
        "print(factori(3)) "
      ],
      "execution_count": null,
      "outputs": [
        {
          "output_type": "stream",
          "text": [
            "Factorial of a number\n",
            "6\n"
          ],
          "name": "stdout"
        }
      ]
    },
    {
      "cell_type": "code",
      "metadata": {
        "colab": {
          "base_uri": "https://localhost:8080/"
        },
        "id": "Juw8iwzGP1dI",
        "outputId": "e0a5e7cb-bc94-4db3-f63e-d88a8f88bd75"
      },
      "source": [
        "#To calculate compund interest\n",
        "\n",
        "def cinterest(p,r,t):\n",
        "  amount = (p * pow((1 + r/100),t))\n",
        "  CI = amount - p\n",
        "  return CI\n",
        "\n",
        "#Driver Code\n",
        "p = int(input(\"Enter initial principal amount: \"))\n",
        "r = float(input(\"Enter rate of annual interest in percentage: \"))\n",
        "t = int(input(\"Enter number of years: \"))\n",
        "print('The compounf interest is')\n",
        "print(cinterest(p,r,t))"
      ],
      "execution_count": null,
      "outputs": [
        {
          "output_type": "stream",
          "text": [
            "Enter initial principal amount: 1200\n",
            "Enter rate of annual interest in percentage: 5.4\n",
            "Enter number of years: 2\n",
            "The compounf interest is\n",
            "133.0992000000001\n"
          ],
          "name": "stdout"
        }
      ]
    },
    {
      "cell_type": "code",
      "metadata": {
        "colab": {
          "base_uri": "https://localhost:8080/"
        },
        "id": "7atQ7VKwSHm-",
        "outputId": "31574a78-d9f4-45e5-e60e-5af5dd432506"
      },
      "source": [
        "#Calculate the area of a circle\n",
        "\n",
        "def circlearea(r):\n",
        "  area = 3.14 * r * r\n",
        "  return area\n",
        "\n",
        "#Driver Code\n",
        "r = float(input(\"Enter the radius of the circle: \"))\n",
        "print('Area of the circle is ')\n",
        "print(circlearea(r))"
      ],
      "execution_count": null,
      "outputs": [
        {
          "output_type": "stream",
          "text": [
            "Enter the radius of the circle: 7\n",
            "Area of the circle is \n",
            "153.86\n"
          ],
          "name": "stdout"
        }
      ]
    },
    {
      "cell_type": "code",
      "metadata": {
        "colab": {
          "base_uri": "https://localhost:8080/"
        },
        "id": "vfcCajMPS5BH",
        "outputId": "0cb01791-448f-4839-9aed-dc3df8f2f6a6"
      },
      "source": [
        "#To check the number is prime or not\n",
        "\n",
        "def prime(n):\n",
        "  a = 0\n",
        "  for i in range(2,n):\n",
        "    if n % i == 0:\n",
        "      a = a + 1\n",
        "  if a > 0:\n",
        "      print('The number is not prime number')\n",
        "  else:\n",
        "      print ('The number is a prime number')\n",
        "\n",
        "#Driver Code\n",
        "n = int(input('Enter a postive integer greater than one: '))\n",
        "prime(n)"
      ],
      "execution_count": null,
      "outputs": [
        {
          "output_type": "stream",
          "text": [
            "Enter a postive integer greater than one: 6\n",
            "The number is not prime number\n"
          ],
          "name": "stdout"
        }
      ]
    },
    {
      "cell_type": "code",
      "metadata": {
        "id": "Kw6dmUn3Uvk-"
      },
      "source": [
        "#To print all the prime number in an Interval\n",
        "\n",
        "def primeininterval(start,end):\n",
        "  for i in range(start,end+1):\n",
        "    a = 0\n",
        "    for j in range(2,i):\n",
        "      if i % j == 0:\n",
        "        a = a + 1\n",
        "    if a == 0:\n",
        "      print(\"{} is a prime number\" .format(i))\n",
        "\n",
        "#Driver Code\n",
        "start = int(input('Enter the starting integer of the interval: '))\n",
        "end = int(input('Enter the end integer of the interval: '))\n",
        "print('\\nThe prime number between the interval are')\n",
        "primeininterval(start,end)"
      ],
      "execution_count": null,
      "outputs": []
    },
    {
      "cell_type": "markdown",
      "metadata": {
        "id": "8sSmDfI9YfTQ"
      },
      "source": [
        "26 june coding\n"
      ]
    },
    {
      "cell_type": "code",
      "metadata": {
        "id": "2HpaZpEwWW_N",
        "colab": {
          "base_uri": "https://localhost:8080/"
        },
        "outputId": "c8624919-d99c-4268-ad91-c9adbfe1f74a"
      },
      "source": [
        "#To print all the prime number in an Interval\n",
        "\n",
        "def PrimeInInterval(start,end):\n",
        "  for i in range(start,end+1):\n",
        "      for j in range(2,i):\n",
        "        if i % j == 0:\n",
        "          break\n",
        "      else:\n",
        "        print (i)\n",
        "\n",
        "#Driver Code\n",
        "start = int(input('Enter the starting integer of the interval: '))\n",
        "end = int(input('Enter the end integer of the interval: '))\n",
        "print('\\nThe prime number between the interval are')\n",
        "PrimeInInterval(start,end)"
      ],
      "execution_count": null,
      "outputs": [
        {
          "output_type": "stream",
          "text": [
            "Enter the starting integer of the interval: 2\n",
            "Enter the end integer of the interval: 5\n",
            "\n",
            "The prime number between the interval are\n",
            "2\n",
            "3\n",
            "5\n"
          ],
          "name": "stdout"
        }
      ]
    },
    {
      "cell_type": "code",
      "metadata": {
        "colab": {
          "base_uri": "https://localhost:8080/"
        },
        "id": "9OF1LT1cWdv7",
        "outputId": "765f31a7-39bb-4b59-d33b-f5e04d83a6fb"
      },
      "source": [
        "#To get the sum of the square of first n natural number\n",
        "\n",
        "def sumofsquare(num):\n",
        "  n1 = (num * (num +1) * ((2*num) +1)/6)\n",
        "  print(n1)\n",
        "\n",
        "#Driver Code\n",
        "num = int(input('Enter the number to calculate the sum of square of first n natural number: '))\n",
        "print('The sum of the sqaure is ')\n",
        "sumofsquare(num)"
      ],
      "execution_count": null,
      "outputs": [
        {
          "output_type": "stream",
          "text": [
            "Enter the number to calculate the sum of square of first n natural number: 100\n",
            "The sum of the sqaure of first {} natural number is \n",
            "338350.0\n"
          ],
          "name": "stdout"
        }
      ]
    },
    {
      "cell_type": "code",
      "metadata": {
        "id": "yoy-XhRSaYas",
        "colab": {
          "base_uri": "https://localhost:8080/"
        },
        "outputId": "07383147-cde5-4d4c-b478-923b0ab89160"
      },
      "source": [
        "#To get the sum of the cube of first n natural number\n",
        "\n",
        "def sumofcube(num):\n",
        "  n1 = pow((num * (num +1) / 2),2)\n",
        "  print(n1)\n",
        "\n",
        "#Driver Code\n",
        "num = int(input('Enter the number to calculate the sum of cube of first n natural number: '))\n",
        "print('The sum of the cube is')\n",
        "sumofcube(num)"
      ],
      "execution_count": null,
      "outputs": [
        {
          "output_type": "stream",
          "text": [
            "Enter the number to calculate the sum of cube of first n natural number: 10\n",
            "The sum of the cube is\n",
            "3025.0\n"
          ],
          "name": "stdout"
        }
      ]
    },
    {
      "cell_type": "code",
      "metadata": {
        "colab": {
          "base_uri": "https://localhost:8080/"
        },
        "id": "KKNe-r7gcqyB",
        "outputId": "781b728a-5a0c-45c9-8aaa-365f4ee6e1ae"
      },
      "source": [
        "#To find the nth fibonacci number\n",
        "\n",
        "def nfibonacci(n):\n",
        "  a1 = 1\n",
        "  a2 = 1\n",
        "  a3 = 0\n",
        "  for i in range(1,n-1):\n",
        "    a3 = a1 + a2\n",
        "    a1 = a2\n",
        "    a2 = a3\n",
        "  print(a3)\n",
        "  \n",
        "#Driver code\n",
        "n = int(input('Enter the number to get nth fibonacci number: '))\n",
        "print('The nth fibonacci number is ')\n",
        "nfibonacci(n)"
      ],
      "execution_count": null,
      "outputs": [
        {
          "output_type": "stream",
          "text": [
            "Enter the number to get nth fibonacci number: 12\n",
            "The nth fibonacci number is \n",
            "144\n"
          ],
          "name": "stdout"
        }
      ]
    },
    {
      "cell_type": "code",
      "metadata": {
        "colab": {
          "base_uri": "https://localhost:8080/"
        },
        "id": "KSEDbO8DeXAC",
        "outputId": "ad3e5f99-59ea-47ac-ff76-9c3006455ea7"
      },
      "source": [
        "#To check a number is fibonacci number or not\n",
        "\n",
        "def fibonaccinum(n):\n",
        "  import math\n",
        "  \n",
        "  a = ((5*pow(n,2)) + 4)\n",
        "  b = ((5*pow(n,2)) - 4)\n",
        "  c = int(math.sqrt(a))\n",
        "  d = int(math.sqrt(b))\n",
        "  e = a - (c*c)\n",
        "  f = b - (d*d)\n",
        "  if e == 0 or f == 0:\n",
        "    print('Yes')\n",
        "  else:\n",
        "    print('No')\n",
        "  \n",
        "#Driver code\n",
        "n = int(input('Enter a number to check if it is a fibonacci number or not: '))\n",
        "fibonaccinum(n)"
      ],
      "execution_count": null,
      "outputs": [
        {
          "output_type": "stream",
          "text": [
            "Enter a number to check if it is a fibonacci number or not: 41\n",
            "No\n"
          ],
          "name": "stdout"
        }
      ]
    },
    {
      "cell_type": "code",
      "metadata": {
        "colab": {
          "base_uri": "https://localhost:8080/"
        },
        "id": "2KmGkQMmgOzo",
        "outputId": "0df75831-76d2-4168-b3b8-9642d6487177"
      },
      "source": [
        "#To implement the power function\n",
        "\n",
        "def power(b,e):\n",
        "  d = 1\n",
        "  if b == 0:\n",
        "    return 0\n",
        "  elif e == 0:\n",
        "    return 1\n",
        "  elif b ==1:\n",
        "    return 1\n",
        "  else:\n",
        "    for i in range(1,e+1):\n",
        "      d = d * b\n",
        "  print(d)\n",
        "\n",
        "#Driver Code\n",
        "b = int(input('Enter the base: '))\n",
        "e = int(input('Enter the exponent: '))\n",
        "power(b,e)"
      ],
      "execution_count": null,
      "outputs": [
        {
          "output_type": "stream",
          "text": [
            "Enter the base: 2\n",
            "Enter the exponent: 10\n",
            "1024\n"
          ],
          "name": "stdout"
        }
      ]
    },
    {
      "cell_type": "markdown",
      "metadata": {
        "id": "lgacOLZhzkI5"
      },
      "source": [
        "#29 May"
      ]
    },
    {
      "cell_type": "code",
      "metadata": {
        "colab": {
          "base_uri": "https://localhost:8080/"
        },
        "id": "1-HvjZVazrhq",
        "outputId": "e12c5330-16fc-4525-af74-b10d0443b242"
      },
      "source": [
        "def power(b,e):\n",
        "  \n",
        "  ''' To get the power of a number'''\n",
        "  d = 1\n",
        "  if b == 0:\n",
        "    return 0\n",
        "  elif e == 0:\n",
        "    return 1\n",
        "  elif b ==1:\n",
        "    return 1\n",
        "  else:\n",
        "    for i in range(1,e+1):\n",
        "      d = d * b\n",
        "  print(d)\n",
        "\n",
        "#Driver Code\n",
        "print(power.__doc__ )\n",
        "b = int(input('Enter the base: '))\n",
        "e = int(input('Enter the exponent: '))\n",
        "power(b,e)"
      ],
      "execution_count": null,
      "outputs": [
        {
          "output_type": "stream",
          "text": [
            " To get the power of a number\n",
            "Enter the base: 0\n",
            "Enter the exponent: 100\n"
          ],
          "name": "stdout"
        },
        {
          "output_type": "execute_result",
          "data": {
            "text/plain": [
              "0"
            ]
          },
          "metadata": {
            "tags": []
          },
          "execution_count": 3
        }
      ]
    },
    {
      "cell_type": "code",
      "metadata": {
        "colab": {
          "base_uri": "https://localhost:8080/"
        },
        "id": "Kzi7n2hK0jXd",
        "outputId": "6ab1912c-eb45-422e-8e9d-88cd894af3d6"
      },
      "source": [
        "def fibonaccinum(n):\n",
        "  \n",
        "  ''' To check a number is fibonacci number or not'''\n",
        "  \n",
        "  import math\n",
        "  a = ((5*pow(n,2)) + 4)\n",
        "  b = ((5*pow(n,2)) - 4)\n",
        "  c = int(math.sqrt(a))\n",
        "  d = int(math.sqrt(b))\n",
        "  e = a - (c*c)\n",
        "  f = b - (d*d)\n",
        "  if e == 0 or f == 0:\n",
        "    print('Yes')\n",
        "  else:\n",
        "    print('No')\n",
        "  \n",
        "#Driver code\n",
        "print(fibonaccinum.__doc__)\n",
        "n = int(input('Enter a number to check if it is a fibonacci number or not: '))\n",
        "fibonaccinum(n)"
      ],
      "execution_count": null,
      "outputs": [
        {
          "output_type": "stream",
          "text": [
            " To check a number is fibonacci number or not\n",
            "Enter a number to check if it is a fibonacci number or not: 44\n",
            "No\n"
          ],
          "name": "stdout"
        }
      ]
    },
    {
      "cell_type": "code",
      "metadata": {
        "colab": {
          "base_uri": "https://localhost:8080/"
        },
        "id": "pYW2QxTS1Ldg",
        "outputId": "a60d2c47-1471-4796-8f98-6794efd0b886"
      },
      "source": [
        "def nfibonacci(n):\n",
        "\n",
        "  '''To get the nth fibonacci number'''\n",
        "\n",
        "  a1 = 1\n",
        "  a2 = 1\n",
        "  a3 = 0\n",
        "  for i in range(1,n-1):\n",
        "    a3 = a1 + a2\n",
        "    a1 = a2 \n",
        "    a2 = a3\n",
        "  print(a3)\n",
        "  \n",
        "#Driver code\n",
        "print(nfibonacci.__doc__)\n",
        "n = int(input('Enter the number to get nth fibonacci number: '))\n",
        "print('The nth fibonacci number is ')\n",
        "nfibonacci(n)"
      ],
      "execution_count": null,
      "outputs": [
        {
          "output_type": "stream",
          "text": [
            "To get the nth fibonacci number\n",
            "Enter the number to get nth fibonacci number: 12\n",
            "The nth fibonacci number is \n",
            "144\n"
          ],
          "name": "stdout"
        }
      ]
    },
    {
      "cell_type": "markdown",
      "metadata": {
        "id": "1phBHBc83G1g"
      },
      "source": [
        "#1 july"
      ]
    },
    {
      "cell_type": "code",
      "metadata": {
        "colab": {
          "base_uri": "https://localhost:8080/"
        },
        "id": "mYSnNV1e3F3b",
        "outputId": "801655b6-9bed-4d24-e084-b7a5fc5986b8"
      },
      "source": [
        "import numpy as np\n",
        "a = np.array([1,2,3,4,5])\n",
        "print(a)\n",
        "sum = 0\n",
        "for i in a:\n",
        "  sum = sum + i\n",
        "print(sum)\n"
      ],
      "execution_count": null,
      "outputs": [
        {
          "output_type": "stream",
          "text": [
            "[1 2 3 4 5]\n",
            "15\n"
          ],
          "name": "stdout"
        }
      ]
    },
    {
      "cell_type": "code",
      "metadata": {
        "colab": {
          "base_uri": "https://localhost:8080/"
        },
        "id": "BrtpCVbE6naP",
        "outputId": "6d939ef5-c194-4d6a-8234-54ac4c9b17b8"
      },
      "source": [
        "import numpy as np\n",
        "\n",
        "def sumarray(a):\n",
        "  '''To find the sum of an array '''\n",
        "  sum = 0\n",
        "  for i in a:\n",
        "    print(i)\n",
        "    sum = sum + i\n",
        "  print(sum)\n",
        "\n",
        "\n",
        "#Driver Code\n",
        "print(sumarray.__doc__)\n",
        "a = np.array([1,2,3,4,5])\n",
        "sumarray(a)"
      ],
      "execution_count": null,
      "outputs": [
        {
          "output_type": "stream",
          "text": [
            "To find the sum of an array \n",
            "1\n",
            "2\n",
            "3\n",
            "4\n",
            "5\n",
            "15\n"
          ],
          "name": "stdout"
        }
      ]
    },
    {
      "cell_type": "markdown",
      "metadata": {
        "id": "O5QfGxknah6D"
      },
      "source": [
        "##25 august practise session\n"
      ]
    },
    {
      "cell_type": "code",
      "metadata": {
        "colab": {
          "base_uri": "https://localhost:8080/"
        },
        "id": "70c1nKqpNbX7",
        "outputId": "4e2aed2b-e8a1-488b-c3be-4a136abf69ee"
      },
      "source": [
        "import numpy as np\n",
        "\n",
        "def largestnum(a):\n",
        "    '''To find the largest number in the array'''\n",
        "    \n",
        "    large = 0\n",
        "    for i in a:\n",
        "        #print(i)\n",
        "        if (i > large):\n",
        "            large = i\n",
        "    print('The largest number is {}: ' .format(large))\n",
        "\n",
        "#Driver Code\n",
        "print(largestnum.__doc__)\n",
        "a = np.array([6,2,10,4,5])\n",
        "largestnum(a)"
      ],
      "execution_count": null,
      "outputs": [
        {
          "output_type": "stream",
          "text": [
            "To find the largest number in the array\n",
            "The largest number is 10: \n"
          ],
          "name": "stdout"
        }
      ]
    },
    {
      "cell_type": "code",
      "metadata": {
        "colab": {
          "base_uri": "https://localhost:8080/"
        },
        "id": "aPYpfzlSO4ar",
        "outputId": "37088cb3-dad6-4b7e-898b-e6012d8c1338"
      },
      "source": [
        "import numpy as np\n",
        "\n",
        "def largestnum(a):\n",
        "    '''To find the largest number in the array'''\n",
        "    large = 0\n",
        "    for i in range(0,len(a)):\n",
        "        #print(a[i])\n",
        "        if (a[i] > large):\n",
        "            large = a[i]\n",
        "    print('The largest number is {}: ' .format(large))\n",
        "\n",
        "#Driver Code\n",
        "print(largestnum.__doc__)\n",
        "a = np.array([1,2,10,4,5])\n",
        "largestnum(a)"
      ],
      "execution_count": null,
      "outputs": [
        {
          "output_type": "stream",
          "text": [
            "To find the largest number in the array\n",
            "The largest number is 10: \n"
          ],
          "name": "stdout"
        }
      ]
    },
    {
      "cell_type": "code",
      "metadata": {
        "colab": {
          "base_uri": "https://localhost:8080/"
        },
        "id": "-sffCtu0Q89k",
        "outputId": "2d895333-3e9e-42b1-8aec-fd3e0f3034e2"
      },
      "source": [
        "def swaplist(a):\n",
        "    '''Interchange the first and last element in a list'''\n",
        "    temp = 0\n",
        "    temp = a[0]\n",
        "    a[0] = a[len(a)-1]\n",
        "    a[len(a)-1] = temp\n",
        "    print(a)\n",
        "\n",
        "#Driver Code\n",
        "print(swaplist.__doc__)\n",
        "a = np.array([1,2,10,4,5])\n",
        "swaplist(a)\n"
      ],
      "execution_count": null,
      "outputs": [
        {
          "output_type": "stream",
          "text": [
            "Interchange the first and last element in a list\n",
            "[ 5  2 10  4  1]\n"
          ],
          "name": "stdout"
        }
      ]
    },
    {
      "cell_type": "code",
      "metadata": {
        "colab": {
          "base_uri": "https://localhost:8080/"
        },
        "id": "hO9lvKddYCDv",
        "outputId": "42cae8b1-594c-49a0-b434-d20c25607c11"
      },
      "source": [
        "def swaplist(a):\n",
        "    '''Interchange the first and last element in a list'''\n",
        "\n",
        "    a[0] , a[-1] = a[-1] , a[0]\n",
        "    print(a)\n",
        "\n",
        "#Driver Code\n",
        "print(swaplist.__doc__)\n",
        "a = np.array([1,2,10,4,5])\n",
        "swaplist(a)"
      ],
      "execution_count": null,
      "outputs": [
        {
          "output_type": "stream",
          "text": [
            "Interchange the first and last element in a list\n",
            "[ 5  2 10  4  1]\n"
          ],
          "name": "stdout"
        }
      ]
    },
    {
      "cell_type": "code",
      "metadata": {
        "colab": {
          "base_uri": "https://localhost:8080/"
        },
        "id": "JzBGuDp6YldB",
        "outputId": "c18dbd73-9976-4abb-fb2b-adc84ca0ae08"
      },
      "source": [
        "def swapposition(a,pos1,pos2):\n",
        "    '''Swap two elements in a list'''\n",
        "\n",
        "    a[pos1] , a[pos2] = a[pos2] , a[pos1]\n",
        "    return a\n",
        "\n",
        "#Driver Code\n",
        "print(swapposition.__doc__)\n",
        "a = np.array([1,2,10,4,5])\n",
        "pos1 = 1\n",
        "pos2 = 3\n",
        "swapposition(a,pos1,pos2)"
      ],
      "execution_count": null,
      "outputs": [
        {
          "output_type": "stream",
          "text": [
            "Swap two elements in a list\n"
          ],
          "name": "stdout"
        },
        {
          "output_type": "execute_result",
          "data": {
            "text/plain": [
              "array([ 1,  4, 10,  2,  5])"
            ]
          },
          "metadata": {},
          "execution_count": 29
        }
      ]
    },
    {
      "cell_type": "code",
      "metadata": {
        "colab": {
          "base_uri": "https://localhost:8080/"
        },
        "id": "1olv8Un8aZOD",
        "outputId": "1d6e24d2-6808-4555-a26f-1e801bce1525"
      },
      "source": [
        "def listlength(arr):\n",
        "    '''Find the length of the list'''\n",
        "    len = 0\n",
        "    for i in arr:\n",
        "        len = len + 1\n",
        "    return len\n",
        "\n",
        "#Driver Code\n",
        "print(listlength.__doc__)\n",
        "arr = np.array([1,2,10,4,5,4,5,6,45,6,56,67,654])\n",
        "listlength(arr)"
      ],
      "execution_count": null,
      "outputs": [
        {
          "output_type": "stream",
          "text": [
            "Find the length of the list\n"
          ],
          "name": "stdout"
        },
        {
          "output_type": "execute_result",
          "data": {
            "text/plain": [
              "13"
            ]
          },
          "metadata": {},
          "execution_count": 31
        }
      ]
    }
  ]
}